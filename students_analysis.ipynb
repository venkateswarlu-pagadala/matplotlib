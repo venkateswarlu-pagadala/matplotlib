{
 "cells": [
  {
   "cell_type": "code",
   "execution_count": 3,
   "metadata": {},
   "outputs": [],
   "source": [
    "import numpy as np\n",
    "import pandas as pd"
   ]
  },
  {
   "cell_type": "markdown",
   "metadata": {},
   "source": [
    "s=pd.read_csv('students_marks.csv')\n",
    "print(s)"
   ]
  },
  {
   "cell_type": "markdown",
   "metadata": {},
   "source": [
    "1. How many marks a particular student got in particular subject?\n",
    "2. Which student has highest marks in particular subject?\n",
    "3. Which student has highest total score?\n",
    "4. How much pass percentage? (above 35 in all subjects)\n",
    "5. Which subject has highest pass percentage?\n",
    "6. pass percertage by gender?\n",
    "7. How many students got more than 500 marks in total?\n",
    "8. How many students got above 90 in all subjects?\n",
    "9. How many students passed in atleast 3 subjects?\n",
    "10. How many students passed in atmost 4 subjects?\n",
    "11. Out of A,B,C. Which grade got most students in each subject?"
   ]
  },
  {
   "cell_type": "code",
   "execution_count": null,
   "metadata": {},
   "outputs": [],
   "source": []
  }
 ],
 "metadata": {
  "kernelspec": {
   "display_name": "Python 3",
   "language": "python",
   "name": "python3"
  },
  "language_info": {
   "codemirror_mode": {
    "name": "ipython",
    "version": 3
   },
   "file_extension": ".py",
   "mimetype": "text/x-python",
   "name": "python",
   "nbconvert_exporter": "python",
   "pygments_lexer": "ipython3",
   "version": "3.7.6"
  }
 },
 "nbformat": 4,
 "nbformat_minor": 2
}
